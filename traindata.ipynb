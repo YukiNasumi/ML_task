{
 "cells": [
  {
   "cell_type": "code",
   "execution_count": 16,
   "id": "4c09a0f6",
   "metadata": {},
   "outputs": [],
   "source": [
    "import numpy as np\n",
    "x_train = np.genfromtxt('data.csv',dtype=float,delimiter=',')"
   ]
  },
  {
   "cell_type": "code",
   "execution_count": 17,
   "id": "d06b73a4",
   "metadata": {},
   "outputs": [
    {
     "data": {
      "text/plain": [
       "(3680, 57)"
      ]
     },
     "execution_count": 17,
     "metadata": {},
     "output_type": "execute_result"
    }
   ],
   "source": [
    "x_train.shape"
   ]
  },
  {
   "cell_type": "code",
   "execution_count": 18,
   "id": "b6893496",
   "metadata": {},
   "outputs": [
    {
     "data": {
      "text/plain": [
       "array([  0.   ,   0.64 ,   0.64 ,   0.   ,   0.32 ,   0.   ,   0.   ,\n",
       "         0.   ,   0.   ,   0.   ,   0.   ,   0.64 ,   0.   ,   0.   ,\n",
       "         0.   ,   0.32 ,   0.   ,   1.29 ,   1.93 ,   0.   ,   0.96 ,\n",
       "         0.   ,   0.   ,   0.   ,   0.   ,   0.   ,   0.   ,   0.   ,\n",
       "         0.   ,   0.   ,   0.   ,   0.   ,   0.   ,   0.   ,   0.   ,\n",
       "         0.   ,   0.   ,   0.   ,   0.   ,   0.   ,   0.   ,   0.   ,\n",
       "         0.   ,   0.   ,   0.   ,   0.   ,   0.   ,   0.   ,   0.   ,\n",
       "         0.   ,   0.   ,   0.778,   0.   ,   0.   ,   3.756,  61.   ,\n",
       "       278.   ])"
      ]
     },
     "execution_count": 18,
     "metadata": {},
     "output_type": "execute_result"
    }
   ],
   "source": [
    "x_train[0]"
   ]
  },
  {
   "cell_type": "code",
   "execution_count": 19,
   "id": "7f3186cc",
   "metadata": {},
   "outputs": [],
   "source": [
    "y_train = np.genfromtxt('targets.csv',delimiter=',',dtype=int)"
   ]
  },
  {
   "cell_type": "code",
   "execution_count": 20,
   "id": "c71ada16",
   "metadata": {},
   "outputs": [],
   "source": [
    "from DecisionStump import DecisionStump"
   ]
  },
  {
   "cell_type": "code",
   "execution_count": 21,
   "id": "79caf528",
   "metadata": {},
   "outputs": [],
   "source": [
    "#stump = DecisionTreeClassifier(max_depth=1)\n",
    "stump = DecisionStump()   "
   ]
  },
  {
   "cell_type": "code",
   "execution_count": 22,
   "id": "e0116d24",
   "metadata": {},
   "outputs": [],
   "source": [
    "stump.fit(x_train, y_train)  "
   ]
  },
  {
   "cell_type": "code",
   "execution_count": 24,
   "id": "7e7c114a",
   "metadata": {},
   "outputs": [],
   "source": [
    "test_scale = x_train.shape[0]"
   ]
  },
  {
   "cell_type": "code",
   "execution_count": 25,
   "id": "c5a6617e",
   "metadata": {},
   "outputs": [],
   "source": [
    "predictions = stump.predict(x_train[:test_scale])"
   ]
  },
  {
   "cell_type": "code",
   "execution_count": 26,
   "id": "9f8c11cb",
   "metadata": {},
   "outputs": [],
   "source": [
    "def adapt(predictions):\n",
    "    for i in range(predictions.shape[0]):\n",
    "        if predictions[i]==-1:\n",
    "            predictions[i]=0"
   ]
  },
  {
   "cell_type": "code",
   "execution_count": 27,
   "id": "be33ee35",
   "metadata": {},
   "outputs": [],
   "source": [
    "adapt(predictions)"
   ]
  },
  {
   "cell_type": "code",
   "execution_count": 28,
   "id": "45f194a8",
   "metadata": {},
   "outputs": [
    {
     "data": {
      "text/plain": [
       "0.40869565217391307"
      ]
     },
     "execution_count": 28,
     "metadata": {},
     "output_type": "execute_result"
    }
   ],
   "source": [
    "sum(predictions==y_train[:test_scale])/test_scale"
   ]
  },
  {
   "cell_type": "code",
   "execution_count": 29,
   "id": "bbfa5f99",
   "metadata": {},
   "outputs": [],
   "source": [
    "from AdaBoost import AdaBoost\n",
    "ada = AdaBoost(n_estimators=10)\n",
    "ada.fit(x_train,y_train)\n",
    "predictions = ada.predict(x_train)"
   ]
  },
  {
   "cell_type": "code",
   "execution_count": 30,
   "id": "70330412",
   "metadata": {},
   "outputs": [],
   "source": [
    "adapt(predictions)"
   ]
  },
  {
   "cell_type": "code",
   "execution_count": 31,
   "id": "8bbe6085",
   "metadata": {},
   "outputs": [
    {
     "data": {
      "text/plain": [
       "2176"
      ]
     },
     "execution_count": 31,
     "metadata": {},
     "output_type": "execute_result"
    }
   ],
   "source": [
    "sum(predictions==y_train)"
   ]
  }
 ],
 "metadata": {
  "kernelspec": {
   "display_name": "dl",
   "language": "python",
   "name": "python3"
  },
  "language_info": {
   "codemirror_mode": {
    "name": "ipython",
    "version": 3
   },
   "file_extension": ".py",
   "mimetype": "text/x-python",
   "name": "python",
   "nbconvert_exporter": "python",
   "pygments_lexer": "ipython3",
   "version": "3.12.7"
  }
 },
 "nbformat": 4,
 "nbformat_minor": 5
}
