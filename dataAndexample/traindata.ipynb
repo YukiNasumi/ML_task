{
 "cells": [
  {
   "cell_type": "code",
   "execution_count": 1,
   "id": "4c09a0f6",
   "metadata": {},
   "outputs": [],
   "source": [
    "import numpy as np\n",
    "x_train = np.genfromtxt('data.csv',dtype=float,delimiter=',')"
   ]
  },
  {
   "cell_type": "code",
   "execution_count": 2,
   "id": "d06b73a4",
   "metadata": {},
   "outputs": [
    {
     "data": {
      "text/plain": [
       "(3680, 57)"
      ]
     },
     "execution_count": 2,
     "metadata": {},
     "output_type": "execute_result"
    }
   ],
   "source": [
    "x_train.shape"
   ]
  },
  {
   "cell_type": "code",
   "execution_count": 3,
   "id": "b6893496",
   "metadata": {},
   "outputs": [
    {
     "data": {
      "text/plain": [
       "array([  0.   ,   0.64 ,   0.64 ,   0.   ,   0.32 ,   0.   ,   0.   ,\n",
       "         0.   ,   0.   ,   0.   ,   0.   ,   0.64 ,   0.   ,   0.   ,\n",
       "         0.   ,   0.32 ,   0.   ,   1.29 ,   1.93 ,   0.   ,   0.96 ,\n",
       "         0.   ,   0.   ,   0.   ,   0.   ,   0.   ,   0.   ,   0.   ,\n",
       "         0.   ,   0.   ,   0.   ,   0.   ,   0.   ,   0.   ,   0.   ,\n",
       "         0.   ,   0.   ,   0.   ,   0.   ,   0.   ,   0.   ,   0.   ,\n",
       "         0.   ,   0.   ,   0.   ,   0.   ,   0.   ,   0.   ,   0.   ,\n",
       "         0.   ,   0.   ,   0.778,   0.   ,   0.   ,   3.756,  61.   ,\n",
       "       278.   ])"
      ]
     },
     "execution_count": 3,
     "metadata": {},
     "output_type": "execute_result"
    }
   ],
   "source": [
    "x_train[0]"
   ]
  },
  {
   "cell_type": "code",
   "execution_count": 4,
   "id": "7f3186cc",
   "metadata": {},
   "outputs": [],
   "source": [
    "y_train = np.genfromtxt('targets.csv',delimiter=',',dtype=int)"
   ]
  },
  {
   "cell_type": "code",
   "execution_count": 5,
   "id": "ad5acb3e",
   "metadata": {},
   "outputs": [],
   "source": [
    "from sklearn.tree import DecisionTreeClassifier"
   ]
  },
  {
   "cell_type": "code",
   "execution_count": 6,
   "id": "c71ada16",
   "metadata": {},
   "outputs": [],
   "source": [
    "from DecisionStump import DecisionStump"
   ]
  },
  {
   "cell_type": "code",
   "execution_count": 7,
   "id": "79caf528",
   "metadata": {},
   "outputs": [],
   "source": [
    "#stump = DecisionTreeClassifier(max_depth=1)\n",
    "stump = DecisionStump()   "
   ]
  },
  {
   "cell_type": "code",
   "execution_count": 8,
   "id": "e0116d24",
   "metadata": {},
   "outputs": [],
   "source": [
    "stump.fit(x_train, y_train)  "
   ]
  },
  {
   "cell_type": "code",
   "execution_count": 9,
   "id": "0cae80a4",
   "metadata": {},
   "outputs": [
    {
     "data": {
      "text/plain": [
       "array([1])"
      ]
     },
     "execution_count": 9,
     "metadata": {},
     "output_type": "execute_result"
    }
   ],
   "source": [
    "stump.predict(x_train[2954:2955])"
   ]
  },
  {
   "cell_type": "code",
   "execution_count": 10,
   "id": "7e7c114a",
   "metadata": {},
   "outputs": [],
   "source": [
    "test_scale = x_train.shape[0]"
   ]
  },
  {
   "cell_type": "code",
   "execution_count": 11,
   "id": "c5a6617e",
   "metadata": {},
   "outputs": [],
   "source": [
    "predictions = stump.predict(x_train[:test_scale])"
   ]
  },
  {
   "cell_type": "code",
   "execution_count": 17,
   "id": "9f8c11cb",
   "metadata": {},
   "outputs": [],
   "source": [
    "def adapt(predictions):\n",
    "    for i in range(predictions.shape[0]):\n",
    "        if predictions[i]==-1:\n",
    "            predictions[i]=0"
   ]
  },
  {
   "cell_type": "code",
   "execution_count": 13,
   "id": "45f194a8",
   "metadata": {},
   "outputs": [
    {
     "data": {
      "text/plain": [
       "0.40869565217391307"
      ]
     },
     "execution_count": 13,
     "metadata": {},
     "output_type": "execute_result"
    }
   ],
   "source": [
    "sum(predictions==y_train[:test_scale])/test_scale"
   ]
  },
  {
   "cell_type": "code",
   "execution_count": 14,
   "id": "bbfa5f99",
   "metadata": {},
   "outputs": [],
   "source": [
    "from AdaBoost import AdaBoost\n",
    "ada = AdaBoost(n_estimators=10)\n",
    "ada.fit(x_train,y_train)\n",
    "predictions = ada.predict(x_train)"
   ]
  },
  {
   "cell_type": "code",
   "execution_count": 18,
   "id": "70330412",
   "metadata": {},
   "outputs": [],
   "source": [
    "adapt(predictions)"
   ]
  },
  {
   "cell_type": "code",
   "execution_count": 19,
   "id": "8bbe6085",
   "metadata": {},
   "outputs": [
    {
     "data": {
      "text/plain": [
       "2176"
      ]
     },
     "execution_count": 19,
     "metadata": {},
     "output_type": "execute_result"
    }
   ],
   "source": [
    "sum(predictions==y_train)"
   ]
  },
  {
   "cell_type": "code",
   "execution_count": 20,
   "id": "e91bf214",
   "metadata": {},
   "outputs": [],
   "source": [
    "import pandas as pd"
   ]
  },
  {
   "cell_type": "code",
   "execution_count": null,
   "id": "6e39f588",
   "metadata": {},
   "outputs": [],
   "source": [
    "df= pd.DataFrame(predictions,index=range(1,predictions.shape[0]+1))"
   ]
  },
  {
   "cell_type": "code",
   "execution_count": 25,
   "id": "c55836c4",
   "metadata": {},
   "outputs": [],
   "source": [
    "df.to_csv('test.csv',header=False)"
   ]
  },
  {
   "cell_type": "code",
   "execution_count": null,
   "id": "49ccff9e",
   "metadata": {},
   "outputs": [],
   "source": []
  }
 ],
 "metadata": {
  "kernelspec": {
   "display_name": "dl",
   "language": "python",
   "name": "python3"
  },
  "language_info": {
   "codemirror_mode": {
    "name": "ipython",
    "version": 3
   },
   "file_extension": ".py",
   "mimetype": "text/x-python",
   "name": "python",
   "nbconvert_exporter": "python",
   "pygments_lexer": "ipython3",
   "version": "3.12.7"
  }
 },
 "nbformat": 4,
 "nbformat_minor": 5
}
