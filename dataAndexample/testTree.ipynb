{
 "cells": [
  {
   "cell_type": "code",
   "execution_count": 1,
   "id": "dab4e439",
   "metadata": {},
   "outputs": [],
   "source": [
    "import numpy as np\n",
    "from DecisionStump3 import DecisionStump\n",
    "X_train = np.genfromtxt('data.csv',dtype=float,delimiter=',')\n",
    "y_train = np.genfromtxt('targets.csv',delimiter=',',dtype=int)"
   ]
  },
  {
   "cell_type": "code",
   "execution_count": 2,
   "id": "2d6ec2fd",
   "metadata": {},
   "outputs": [
    {
     "name": "stdout",
     "output_type": "stream",
     "text": [
      "Best split: Feature 51, Threshold 0.080, Polarity 1, Impurity 0.3189\n"
     ]
    }
   ],
   "source": [
    "stump = DecisionStump(criterion='gini', verbose=True)\n",
    "stump.fit(X_train, y_train)"
   ]
  },
  {
   "cell_type": "code",
   "execution_count": 3,
   "id": "1f312310",
   "metadata": {},
   "outputs": [],
   "source": [
    "test_scale = X_train.shape[0]"
   ]
  },
  {
   "cell_type": "code",
   "execution_count": 4,
   "id": "90b7d1ea",
   "metadata": {},
   "outputs": [],
   "source": [
    "def adapt(predictions):\n",
    "    for i in range(predictions.shape[0]):\n",
    "        if predictions[i]==-1:\n",
    "            predictions[i]=0"
   ]
  },
  {
   "cell_type": "code",
   "execution_count": 5,
   "id": "48e5e64e",
   "metadata": {},
   "outputs": [],
   "source": [
    "predictions = stump.predict(X_train[:test_scale])\n",
    "adapt(predictions)\n",
    "accuracy = sum((predictions)==y_train[:test_scale])/test_scale"
   ]
  },
  {
   "cell_type": "code",
   "execution_count": 6,
   "id": "fef44b66",
   "metadata": {},
   "outputs": [
    {
     "data": {
      "text/plain": [
       "array([1, 1, 1, ..., 1, 0, 1])"
      ]
     },
     "execution_count": 6,
     "metadata": {},
     "output_type": "execute_result"
    }
   ],
   "source": [
    "predictions"
   ]
  },
  {
   "cell_type": "code",
   "execution_count": 7,
   "id": "cbe278e6",
   "metadata": {},
   "outputs": [
    {
     "data": {
      "text/plain": [
       "array([False, False, False, ..., False,  True, False])"
      ]
     },
     "execution_count": 7,
     "metadata": {},
     "output_type": "execute_result"
    }
   ],
   "source": [
    "np.logical_not(predictions)"
   ]
  },
  {
   "cell_type": "code",
   "execution_count": 8,
   "id": "85d25cc6",
   "metadata": {},
   "outputs": [
    {
     "data": {
      "text/plain": [
       "0.7959239130434783"
      ]
     },
     "execution_count": 8,
     "metadata": {},
     "output_type": "execute_result"
    }
   ],
   "source": [
    "accuracy"
   ]
  },
  {
   "cell_type": "code",
   "execution_count": null,
   "id": "55960e80",
   "metadata": {},
   "outputs": [],
   "source": []
  }
 ],
 "metadata": {
  "kernelspec": {
   "display_name": "dl",
   "language": "python",
   "name": "python3"
  },
  "language_info": {
   "codemirror_mode": {
    "name": "ipython",
    "version": 3
   },
   "file_extension": ".py",
   "mimetype": "text/x-python",
   "name": "python",
   "nbconvert_exporter": "python",
   "pygments_lexer": "ipython3",
   "version": "3.12.7"
  }
 },
 "nbformat": 4,
 "nbformat_minor": 5
}
